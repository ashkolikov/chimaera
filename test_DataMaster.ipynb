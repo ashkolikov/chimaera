{
 "cells": [
  {
   "cell_type": "code",
   "execution_count": 1,
   "id": "87ee4484",
   "metadata": {},
   "outputs": [],
   "source": [
    "%load_ext autoreload\n",
    "%autoreload 2"
   ]
  },
  {
   "cell_type": "code",
   "execution_count": 2,
   "id": "f87e292d",
   "metadata": {},
   "outputs": [],
   "source": [
    "import matplotlib as mpl\n",
    "import seaborn as sns\n",
    "import matplotlib.pyplot as plt\n",
    "\n",
    "import pandas as pd"
   ]
  },
  {
   "cell_type": "code",
   "execution_count": 3,
   "id": "1aa36cae",
   "metadata": {},
   "outputs": [],
   "source": [
    "import chimaera"
   ]
  },
  {
   "cell_type": "code",
   "execution_count": 4,
   "id": "6682248a",
   "metadata": {},
   "outputs": [],
   "source": [
    "INPUT_COOLER = './tests/data_old/HFF_chr2-chr10_hg38_4DNFIP5EUOFX.mapq_30.2048.cool'\n",
    "INPUT_FASTA = './tests/data_old/chr2-chr10.hg38.fa'"
   ]
  },
  {
   "cell_type": "code",
   "execution_count": 5,
   "id": "ffe892d5",
   "metadata": {},
   "outputs": [],
   "source": [
    "viewframe = pd.DataFrame({\n",
    "    'chrom' : ['chr2', 'chr2', 'chr10'],\n",
    "    'start' : [0, 5_000_000, 10_00_000],\n",
    "    'end'   : [2_500_000, 7_500_000, 15_000_000]\n",
    "                         })"
   ]
  },
  {
   "cell_type": "code",
   "execution_count": 13,
   "id": "9e343d67",
   "metadata": {
    "scrolled": true
   },
   "outputs": [
    {
     "name": "stdout",
     "output_type": "stream",
     "text": [
      "dna data for chr10 is loaded\n",
      "dna data for chr2 is loaded\n",
      "For each sample: select 20x20 snippets, zoomify to 20x20 (Ys) and align with 40960 nucleotides (Xs)\n"
     ]
    },
    {
     "name": "stderr",
     "output_type": "stream",
     "text": [
      "/home/agalicina/anaconda3/envs/chimaera/lib/python3.9/site-packages/cooltools/lib/numutils.py:1355: RuntimeWarning: invalid value encountered in true_divide\n",
      "  val_cur = ar_cur / armask_cur\n",
      "/home/agalicina/anaconda3/envs/chimaera/lib/python3.9/site-packages/cooltools/lib/numutils.py:1355: RuntimeWarning: invalid value encountered in true_divide\n",
      "  val_cur = ar_cur / armask_cur\n",
      "/home/agalicina/soft/chimaera/chimaera/utils.py:202: RuntimeWarning: divide by zero encountered in log\n",
      "  snippet = np.log(snippet)\n"
     ]
    },
    {
     "name": "stdout",
     "output_type": "stream",
     "text": [
      "Only 6813 regions are readable out of 6857 initial\n",
      "Full dataset: 6813, train size: 6313, validation size: 500 samples\n"
     ]
    }
   ],
   "source": [
    "data = chimaera.DataMaster(INPUT_COOLER, INPUT_FASTA, \n",
    "                           2048*20, # DAN length\n",
    "                           2048*20, # Hi-C length\n",
    "                           viewframe=viewframe,\n",
    "                           nthreads_snipper=10,\n",
    "                           final_snip_size=20)"
   ]
  },
  {
   "cell_type": "code",
   "execution_count": 14,
   "id": "f36104ec",
   "metadata": {},
   "outputs": [
    {
     "data": {
      "text/plain": [
       "(1, 43008, 4)"
      ]
     },
     "execution_count": 14,
     "metadata": {},
     "output_type": "execute_result"
    }
   ],
   "source": [
    "data.x_val[10].shape"
   ]
  },
  {
   "cell_type": "code",
   "execution_count": 18,
   "id": "3642e741",
   "metadata": {},
   "outputs": [
    {
     "data": {
      "text/plain": [
       "(1, 20, 20)"
      ]
     },
     "execution_count": 18,
     "metadata": {},
     "output_type": "execute_result"
    }
   ],
   "source": [
    "data.y_val[10].shape"
   ]
  },
  {
   "cell_type": "code",
   "execution_count": null,
   "id": "435f9afa",
   "metadata": {},
   "outputs": [],
   "source": []
  }
 ],
 "metadata": {
  "kernelspec": {
   "display_name": "chimaera",
   "language": "python",
   "name": "chimaera"
  },
  "language_info": {
   "codemirror_mode": {
    "name": "ipython",
    "version": 3
   },
   "file_extension": ".py",
   "mimetype": "text/x-python",
   "name": "python",
   "nbconvert_exporter": "python",
   "pygments_lexer": "ipython3",
   "version": "3.9.7"
  }
 },
 "nbformat": 4,
 "nbformat_minor": 5
}
